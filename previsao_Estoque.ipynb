{
  "nbformat": 4,
  "nbformat_minor": 0,
  "metadata": {
    "colab": {
      "provenance": []
    },
    "kernelspec": {
      "name": "python3",
      "display_name": "Python 3"
    },
    "language_info": {
      "name": "python"
    }
  },
  "cells": [
    {
      "cell_type": "code",
      "execution_count": 2,
      "metadata": {
        "colab": {
          "base_uri": "https://localhost:8080/",
          "height": 1000
        },
        "id": "DcEjJjKg62Zp",
        "outputId": "2c2197a5-fd49-49c8-9460-3b698a754a13"
      },
      "outputs": [
        {
          "output_type": "stream",
          "name": "stdout",
          "text": [
            "Primeiras linhas do dataset:\n",
            "   ID_PRODUTO         DIA  FLAG_PROMOCAO  QUANTIDADE_ESTOQUE\n",
            "0           1  2023-12-31              0                  91\n",
            "1           2  2023-12-31              0                  64\n",
            "2           3  2023-12-31              0                  66\n",
            "3           4  2023-12-31              0                  72\n",
            "4           5  2023-12-31              0                  95\n",
            "RMSE: 29.93\n",
            "R²: -0.09\n"
          ]
        },
        {
          "output_type": "display_data",
          "data": {
            "text/plain": [
              "<Figure size 800x500 with 1 Axes>"
            ],
            "image/png": "[encoded data removed]"
          },
          "metadata": {}
        },
        {
          "output_type": "stream",
          "name": "stdout",
          "text": [
            "Exemplo de previsões:\n",
            "     ID_PRODUTO  FLAG_PROMOCAO   ANO  MES  DIA_SEMANA  ESTOQUE_REAL  \\\n",
            "361          12              0  2024    1           6             7   \n",
            "73           24              0  2024    1           1            44   \n",
            "374          25              0  2024    1           6             0   \n",
            "155           6              1  2024    1           5            28   \n",
            "104           5              0  2024    1           3            88   \n",
            "394          20              0  2024    1           0             2   \n",
            "377           3              0  2024    1           0             0   \n",
            "124          25              1  2024    1           3            35   \n",
            "68           19              0  2024    1           1            56   \n",
            "450           1              1  2024    1           3            22   \n",
            "\n",
            "     ESTOQUE_PREVISTO  \n",
            "361         39.503667  \n",
            "73          16.586500  \n",
            "374         24.201667  \n",
            "155          9.952500  \n",
            "104         39.633333  \n",
            "394         36.868500  \n",
            "377         50.269167  \n",
            "124         12.635000  \n",
            "68          19.727857  \n",
            "450         41.725000  \n",
            "Arquivo previsoes_estoque.csv salvo com sucesso!\n"
          ]
        }
      ],
      "source": [
        "# ==============================\n",
        "# 1. Importar bibliotecas\n",
        "# ==============================\n",
        "import pandas as pd\n",
        "import numpy as np\n",
        "from sklearn.model_selection import train_test_split\n",
        "from sklearn.ensemble import RandomForestRegressor\n",
        "from sklearn.metrics import mean_squared_error, r2_score\n",
        "import matplotlib.pyplot as plt\n",
        "\n",
        "# ==============================\n",
        "# 2. Carregar dataset\n",
        "# ==============================\n",
        "df = pd.read_csv(\"dataset-500-curso-sagemaker-canvas-dio.csv\")\n",
        "\n",
        "print(\"Primeiras linhas do dataset:\")\n",
        "print(df.head())\n",
        "\n",
        "# ==============================\n",
        "# 3. Preparar os dados\n",
        "# ==============================\n",
        "# Converter coluna de data\n",
        "df[\"DIA\"] = pd.to_datetime(df[\"DIA\"])\n",
        "\n",
        "# Criar novas features a partir da data\n",
        "df[\"ANO\"] = df[\"DIA\"].dt.year\n",
        "df[\"MES\"] = df[\"DIA\"].dt.month\n",
        "df[\"DIA_SEMANA\"] = df[\"DIA\"].dt.weekday\n",
        "\n",
        "# Definir variáveis de entrada (X) e saída (y)\n",
        "X = df[[\"ID_PRODUTO\", \"FLAG_PROMOCAO\", \"ANO\", \"MES\", \"DIA_SEMANA\"]]\n",
        "y = df[\"QUANTIDADE_ESTOQUE\"]\n",
        "\n",
        "# Separar treino e teste\n",
        "X_train, X_test, y_train, y_test = train_test_split(\n",
        "    X, y, test_size=0.2, random_state=42\n",
        ")\n",
        "\n",
        "# ==============================\n",
        "# 4. Treinar modelo\n",
        "# ==============================\n",
        "modelo = RandomForestRegressor(n_estimators=100, random_state=42)\n",
        "modelo.fit(X_train, y_train)\n",
        "\n",
        "# ==============================\n",
        "# 5. Avaliar desempenho\n",
        "# ==============================\n",
        "y_pred = modelo.predict(X_test)\n",
        "\n",
        "rmse = np.sqrt(mean_squared_error(y_test, y_pred))\n",
        "r2 = r2_score(y_test, y_pred)\n",
        "\n",
        "print(f\"RMSE: {rmse:.2f}\")\n",
        "print(f\"R²: {r2:.2f}\")\n",
        "\n",
        "# ==============================\n",
        "# 6. Importância das variáveis\n",
        "# ==============================\n",
        "importancias = modelo.feature_importances_\n",
        "features = X.columns\n",
        "\n",
        "plt.figure(figsize=(8,5))\n",
        "plt.bar(features, importancias)\n",
        "plt.title(\"Importância das variáveis para a previsão de estoque\")\n",
        "plt.show()\n",
        "\n",
        "# ==============================\n",
        "# 7. Fazer previsões\n",
        "# ==============================\n",
        "novos_dados = X_test.head(10)  # exemplo com 10 registros\n",
        "previsoes = modelo.predict(novos_dados)\n",
        "\n",
        "resultados = pd.DataFrame({\n",
        "    \"ID_PRODUTO\": novos_dados[\"ID_PRODUTO\"],\n",
        "    \"FLAG_PROMOCAO\": novos_dados[\"FLAG_PROMOCAO\"],\n",
        "    \"ANO\": novos_dados[\"ANO\"],\n",
        "    \"MES\": novos_dados[\"MES\"],\n",
        "    \"DIA_SEMANA\": novos_dados[\"DIA_SEMANA\"],\n",
        "    \"ESTOQUE_REAL\": y_test.head(10).values,\n",
        "    \"ESTOQUE_PREVISTO\": previsoes\n",
        "})\n",
        "\n",
        "print(\"Exemplo de previsões:\")\n",
        "print(resultados)\n",
        "\n",
        "# ==============================\n",
        "# 8. Exportar previsões\n",
        "# ==============================\n",
        "resultados.to_csv(\"previsoes_estoque.csv\", index=False)\n",
        "print(\"Arquivo previsoes_estoque.csv salvo com sucesso!\")\n"
      ]
    }
  ]
}